{
 "cells": [
  {
   "cell_type": "code",
   "execution_count": 18,
   "id": "8b45be53",
   "metadata": {},
   "outputs": [
    {
     "name": "stderr",
     "output_type": "stream",
     "text": [
      "/Users/nanwu/opt/anaconda3/lib/python3.8/site-packages/IPython/core/interactiveshell.py:3444: DtypeWarning: Columns (20,31,32) have mixed types.Specify dtype option on import or set low_memory=False.\n",
      "  exec(code_obj, self.user_global_ns, self.user_ns)\n"
     ]
    }
   ],
   "source": [
    "import pandas as pd\n",
    "datafile = \"/Users/nanwu/Desktop/311_Service_Requests_2020.csv\"\n",
    "\n",
    "df = pd.read_csv(datafile)"
   ]
  },
  {
   "cell_type": "code",
   "execution_count": 15,
   "id": "7cecb7b2",
   "metadata": {},
   "outputs": [
    {
     "name": "stdout",
     "output_type": "stream",
     "text": [
      "2587316\n",
      "193721\n",
      "0.07487334365033108\n"
     ]
    }
   ],
   "source": [
    "#total illegal parking\n",
    "total_count = df['Unique Key'].count()\n",
    "total_illegalparking_count = df[df['Complaint Type'] == \"Illegal Parking\"]['Unique Key'].count()\n",
    "print(total_count)\n",
    "print(total_illegalparking_count)\n",
    "total_proportion = total_illegalparking_count / total_count\n",
    "print(total_proportion)\n"
   ]
  },
  {
   "cell_type": "code",
   "execution_count": 16,
   "id": "621998eb",
   "metadata": {},
   "outputs": [
    {
     "name": "stdout",
     "output_type": "stream",
     "text": [
      "20978\n",
      "792\n",
      "0.03775383735341787\n"
     ]
    }
   ],
   "source": [
    "#zip-code specificed illegal parking\n",
    "zip_code = 10025\n",
    "df2 = df[df['Incident Zip'] == zip_code]\n",
    "\n",
    "\n",
    "zipcode_total_count = df2['Unique Key'].count()\n",
    "zipcode_illegalparking_count = df2[df2['Complaint Type'] == \"Illegal Parking\"]['Unique Key'].count()\n",
    "print(zipcode_total_count)\n",
    "print(zipcode_illegalparking_count)\n",
    "zipcode_proportion = zipcode_illegalparking_count / zipcode_total_count\n",
    "print(zipcode_proportion)"
   ]
  },
  {
   "cell_type": "code",
   "execution_count": 17,
   "id": "9713b94d",
   "metadata": {},
   "outputs": [
    {
     "data": {
      "text/plain": [
       "False"
      ]
     },
     "execution_count": 17,
     "metadata": {},
     "output_type": "execute_result"
    }
   ],
   "source": [
    "if zipcode_proportion > total_proportion:\n",
    "    higher_parking_proportion = True\n",
    "else:\n",
    "    higher_parking_proportion = False\n",
    "higher_parking_proportion"
   ]
  },
  {
   "cell_type": "code",
   "execution_count": null,
   "id": "fd76d7f3",
   "metadata": {},
   "outputs": [],
   "source": []
  }
 ],
 "metadata": {
  "kernelspec": {
   "display_name": "Python 3 (ipykernel)",
   "language": "python",
   "name": "python3"
  },
  "language_info": {
   "codemirror_mode": {
    "name": "ipython",
    "version": 3
   },
   "file_extension": ".py",
   "mimetype": "text/x-python",
   "name": "python",
   "nbconvert_exporter": "python",
   "pygments_lexer": "ipython3",
   "version": "3.8.12"
  }
 },
 "nbformat": 4,
 "nbformat_minor": 5
}
